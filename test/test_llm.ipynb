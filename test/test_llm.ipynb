{
 "cells": [
  {
   "cell_type": "code",
   "execution_count": 9,
   "id": "5f08e4ef",
   "metadata": {},
   "outputs": [
    {
     "name": "stdout",
     "output_type": "stream",
     "text": [
      "ChatCompletion(id='chatcmpl-hUhnxsy0vafzIFdRy7P0mFvHXzy4y', choices=[Choice(finish_reason='stop', index=0, logprobs=None, message=ChatCompletionMessage(content='Hello! How’s it going?', refusal=None, role='assistant', annotations=None, audio=None, function_call=None, tool_calls=None))], created=1753364010, model='gpt-4o-mini-2024-07-18', object='chat.completion', service_tier=None, system_fingerprint='fp_c9aa9c0491', usage=CompletionUsage(completion_tokens=7, prompt_tokens=21, total_tokens=28, completion_tokens_details=None, prompt_tokens_details=None))\n"
     ]
    }
   ],
   "source": [
    "from llm_client import openai_client, perplexity_client\n",
    "\n",
    "response = openai_client.generate(\"Say hello!\", model='gpt-4o-mini')\n",
    "print(response)"
   ]
  },
  {
   "cell_type": "code",
   "execution_count": 7,
   "id": "c36880f8",
   "metadata": {},
   "outputs": [
    {
     "name": "stdout",
     "output_type": "stream",
     "text": [
      "ChatCompletion(id='a0dbcfe9-0662-40dc-8b01-649ba4adae3d', choices=[Choice(finish_reason='stop', index=0, logprobs=None, message=ChatCompletionMessage(content='你好！我是傻瓜Agent，很高興見到你！😄', refusal=None, role='assistant', annotations=None, audio=None, function_call=None, tool_calls=None), delta={'role': 'assistant', 'content': ''})], created=1753363896, model='sonar', object='chat.completion', service_tier=None, system_fingerprint=None, usage=CompletionUsage(completion_tokens=19, prompt_tokens=10, total_tokens=29, completion_tokens_details=None, prompt_tokens_details=None, search_context_size='low'), citations=['https://www.siriusxm.com/blog/world-hello-day-songs', 'https://www.youtube.com/watch?v=p3XPRgf4qG4', 'https://nohello.net/en', 'https://www.musicforkiddos.com/blog/say-hello-a-movement-based-hello-song-for-kids', 'https://www.youtube.com/watch?v=wtdvGIX04Qc'], search_results=[{'title': \"12 Songs to Say 'Hello' on World Hello Day - SiriusXM\", 'url': 'https://www.siriusxm.com/blog/world-hello-day-songs', 'date': '2022-11-21', 'last_updated': '2025-07-11'}, {'title': 'How Do We Say Hello - Good Morning Circle Time Song - YouTube', 'url': 'https://www.youtube.com/watch?v=p3XPRgf4qG4', 'date': '2022-03-10', 'last_updated': '2025-06-30'}, {'title': 'no hello', 'url': 'https://nohello.net/en', 'date': '2022-01-01', 'last_updated': '2025-07-23'}, {'title': 'Say Hello: A Movement-Based Hello Song For Kids! - Music for Kiddos', 'url': 'https://www.musicforkiddos.com/blog/say-hello-a-movement-based-hello-song-for-kids', 'date': '2023-12-12', 'last_updated': '2025-02-24'}, {'title': 'Say Hello by Stephanie Leavell - Music For Kiddos - YouTube', 'url': 'https://www.youtube.com/watch?v=wtdvGIX04Qc', 'date': '2023-12-13', 'last_updated': '2025-07-01'}])\n"
     ]
    }
   ],
   "source": [
    "response = perplexity_client.generate(\"Say hello!\", model='sonar')\n",
    "print(response)"
   ]
  },
  {
   "cell_type": "code",
   "execution_count": null,
   "id": "b90548fc",
   "metadata": {},
   "outputs": [],
   "source": []
  }
 ],
 "metadata": {
  "kernelspec": {
   "display_name": "llm-news",
   "language": "python",
   "name": "python3"
  },
  "language_info": {
   "codemirror_mode": {
    "name": "ipython",
    "version": 3
   },
   "file_extension": ".py",
   "mimetype": "text/x-python",
   "name": "python",
   "nbconvert_exporter": "python",
   "pygments_lexer": "ipython3",
   "version": "3.10.18"
  }
 },
 "nbformat": 4,
 "nbformat_minor": 5
}
