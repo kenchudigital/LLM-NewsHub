{
 "cells": [
  {
   "cell_type": "code",
   "execution_count": 3,
   "metadata": {},
   "outputs": [],
   "source": [
    "!pip install beautifulsoup4 --quiet"
   ]
  },
  {
   "cell_type": "code",
   "execution_count": 44,
   "metadata": {},
   "outputs": [],
   "source": [
    "import json\n",
    "import requests\n",
    "from bs4 import BeautifulSoup\n",
    "import re"
   ]
  },
  {
   "cell_type": "code",
   "execution_count": 20,
   "metadata": {},
   "outputs": [],
   "source": [
    "url = \"https://edition.cnn.com/2024/11/06/business/elon-musk-election-bet/index.html\""
   ]
  },
  {
   "cell_type": "code",
   "execution_count": 36,
   "metadata": {},
   "outputs": [],
   "source": [
    "response = requests.get(url)"
   ]
  },
  {
   "cell_type": "code",
   "execution_count": 37,
   "metadata": {},
   "outputs": [
    {
     "data": {
      "text/plain": [
       "<Response [200]>"
      ]
     },
     "execution_count": 37,
     "metadata": {},
     "output_type": "execute_result"
    }
   ],
   "source": [
    "response"
   ]
  },
  {
   "cell_type": "code",
   "execution_count": 23,
   "metadata": {},
   "outputs": [],
   "source": [
    "soup = BeautifulSoup(response.content, \"html.parser\")"
   ]
  },
  {
   "cell_type": "code",
   "execution_count": 24,
   "metadata": {},
   "outputs": [],
   "source": [
    "news_items = [] "
   ]
  },
  {
   "cell_type": "code",
   "execution_count": 32,
   "metadata": {},
   "outputs": [],
   "source": [
    "def extract_article_info(soup):\n",
    "\n",
    "    title_element = soup.find(\"h1\", class_=\"headline__text\")  \n",
    "    if not title_element:\n",
    "        title_element = soup.find(\"h2\", class_=\"headline__text\")\n",
    "    if title_element:\n",
    "      title = title_element.text.strip()\n",
    "    else:\n",
    "      title = \"Title not found\" \n",
    "\n",
    "    # 2. Extract Article Text\n",
    "    article_content_div = soup.find(\"div\", class_=\"article__content\", itemprop=\"articleBody\")  \n",
    "    article_text = \"\"\n",
    "\n",
    "    if article_content_div:\n",
    "      paragraphs = article_content_div.find_all(\"p\", class_=\"paragraph\") # Find all the paragraph\n",
    "      for p in paragraphs:\n",
    "        article_text += p.text.strip() + \" \"  # Add each paragraph's text with a space\n",
    "    else:\n",
    "      article_text = \"Article content not found\"\n",
    "\n",
    "    return title, article_text"
   ]
  },
  {
   "cell_type": "code",
   "execution_count": 35,
   "metadata": {},
   "outputs": [
    {
     "name": "stdout",
     "output_type": "stream",
     "text": [
      "Title:  Elon Musk bet big on Trump. Here’s what he stands to gain — and lose — from his win\n",
      "Content:  No single business leader did more to support former President Donald Trump’s candidacy than Elon Musk. But the billionaire and his business empire face both positives and negatives after Trump won back the presidency in Tuesday’s election. Musk has donated nearly $119 million so far to a political action committee he set up to support Trump, according to Federal Election Commission filings. He’s appeared with Trump at rallies and hosted a fawning interview with him on X, his social media platform. “He’s bet big here. He dove into the deep end of the pool on this election,” said Daniel Ives, tech analyst at Wedbush Securities. Early Wednesday, investors were already betting that Trump’s win will also be a win for Musk’s major public holding, Tesla (TSLA), sending shares of his electric vehicle maker up an immediate 13% at the market open, and closing regular trading up nearly 15%. That lifted the value of the 411 million shares of Tesla that Musk owns outright by more than $15 billion, which works out to a 12,761% return on the $119 million he donated to Trump. It was a two-year high for Tesla shares, which had struggled recently and were only up 1% for the year through Tuesday’s close. But there are risks for Tesla, even from Trump’s victory. Much of Musk’s massive net worth can be traced to the government support his companies, such as Tesla and SpaceX, have received over the years. Even if Vice President Kamala Harris had won, much of that money would have continued to flow. But even if some of the government support for electric vehicles is now trimmed or cut off, as is likely with Trump’s victory, Musk’s wealth will remain firmly intact. In fact, Tesla could benefit if government support for EVs ends. Musk posted numerous tweets on his social media platform X late Tuesday and early Wednesday celebrating Trump’s victory. “The people of America gave @realDonaldTrump a crystal clear mandate for change tonight,” he wrote in one of them. Trump has been openly hostile to electric vehicles, saying they are too expensive, have limited range, and will destroy jobs and the American auto industry. But what might seem like the biggest blow to Tesla from another Trump presidency — a reduction, if not the end of federal support for EVs — might not be all that bad for Tesla and Musk. But other policies that are the center of Trump’s plans could cause major problems. Trump has vowed to end something he calls “Biden’s EV mandate,” even though no such mandate exists, and it is unclear what he is referring to. But under Biden there has been significant government support for building and buying EVs, including billions of dollars in loans to encourage automakers to invest in factories to build EVs and batteries in the United States, support for charging stations and a $7,500 tax credit to many electric car buyers. Many industry experts believe Trump will end those programs. Trump could order the Treasury Department to change the rules that determine when car buyers qualify for the credit, greatly limiting the tax credit’s availability. Or, if Trump has a Republican-controlled Congress, he could get legislation passed to eliminate the credit all together. But Musk has said he’s not worried about the end of the tax credit, as Tesla sees it as a boon to legacy automakers’ efforts to move into the EV market and provide more competition. “Take away the subsidies. It will only help Tesla,” Musk posted on X in July. Thanks to increased competition, Tesla’s global sales sank 2% in the first nine months of this year compared to last year. Sales and profit managed to improve in the third quarter, but it was the first time the company had ever seen such a drop in its history. Trump might be more likely to give a green light to Musk’s true self-driving vehicles, yet to be made, Ives said, along with a fleet of so-called “robotaxis” to give rides without any sort of driver on board. Garrett Nelson, analyst with CFRA Research, agreed. “In our view, Tesla and CEO Elon Musk are perhaps the biggest winners from the election result, and we believe Trump’s victory will help expedite regulatory approval of the company’s autonomous driving technology,” he said in a note to clients Wednesday, raising his recommendation on Tesla stock from a “Hold” to a “Buy.” He raised his 12-month price target for the stock by $110 to $375 a share. So far the company’s existing driver assist features, known as Autopilot and Full Self-Driving, or FSD, are facing probes from federal safety regulators after a series of crashes involving the technology. Those investigations could slow approval of true self-driving Tesla cars being allowed on roads, despite Musk’s widely disputed claim that Teslas using FSD are already safer than those driven by humans. “Under Trump those investigations could slowly disappear,” Ives said. Not all government support for EVs is likely to vanish in Trump’s next administration. Beyond the buyers’ tax credit, much of the taxpayer dollars being spent to support EV adoption comes in the form of government loans to automakers and their suppliers to build plants in southern “red” states. It’s not likely Trump would want to cut that support, and the promise of jobs in those states, even if they will eventually provide competition for Musk and Tesla. Traditional automakers say they will move ahead with their plans to build and sell more EVs in the future. They say EVs are the future for the industry, even if the adoption rate has slowed recently. “It is not a strategy where we handicap the presidential election or the next one and the next one and see what we can get away with the EPA,” said Ford CEO Jim Farley to investors in July. “The only way we believe to be enduring is to make money on small EVs. And that’s our bet.” The automakers are making a push to sell more EVs so the companies can meet increasingly tough environmental regulations in the United States, Europe and Asia. Even if Trump gets the EPA to change emission rules here, automakers will maintain an incentive to keep making EVs to meet regulations elsewhere, or tougher environmental rules in many US states, including California, which has its own tougher emission rules followed by many other states. Industry experts say they don’t expect the growth of EV sales to stop, even if Trump changes the emission rules, due partly to growing demand by consumers. “We might see a much slower adoption of EVs (with a regulation change),” said Jeff Schuster, global head of automotive at GlobalData, an industry consultant. “But with all the investment, we’re not likely to see it reversed.” The bigger problem for Tesla with Trump’s win is that there could be a renewed trade war with China, said Ives, given the importance of its plant in Shanghai to its global sales and profits. With Trump’s victory, “he’ll be much harsher on China, and then the negatives could outweigh the positives for Tesla,” Ives said. “Over 40% of deliveries come from the China market. Tesla would be caught in the crossfire.” And it could be also be a problem for Tesla if Trump taps Musk to lead his administration’s efforts to cut what they call government waste, as the two have mentioned on the campaign trail. Whatever the result of those efforts, and whether or not Musk has a formal or informal government role in Trump’s new administration, the last thing that Tesla investors would want to see is Musk being further distracted from his time running Tesla, said Ives. “It’s more time away from Tesla at a time you want more attention to Tesla,” said Ives. Musk’s other major business, SpaceX, likely wouldn’t have had significantly different relations with the federal government no matter who is elected. Its major competitor, Boeing, is having serious problems with spacecraft that NASA has contracted to carry astronauts to and from the International Space Station. And Musk’s ownership of X has been widely criticized, especially by Democrats, for spreading misinformation. But it has not been shut down or hampered by government action even under Biden, and the new Trump administration likely also won’t take any action against it. And given the financial losses since his purchase of the company, it is now a relatively small part of Musk’s overall net worth. \n"
     ]
    }
   ],
   "source": [
    "title, text = extract_article_info(soup)\n",
    "\n",
    "print('Title: ', title)\n",
    "print('Content: ', text)"
   ]
  },
  {
   "cell_type": "markdown",
   "metadata": {},
   "source": [
    "### Use the URL list to get the demo data\n",
    "\n",
    "Okay, First step I just get 3 news in the timeline and 2 news irrelvant"
   ]
  },
  {
   "cell_type": "code",
   "execution_count": 39,
   "metadata": {},
   "outputs": [],
   "source": [
    "url_list = [\n",
    "    \"https://edition.cnn.com/2025/02/06/business/elon-musk-promises-to-make-tesla-great-again-for-now-investors-are-buying-it/index.html\",\n",
    "    \"https://edition.cnn.com/2025/02/07/science/spacex-elon-musk-tesla-roadster-asteroid-astronomers/index.html\",\n",
    "    \"https://edition.cnn.com/2025/02/06/business/elon-musk-promises-to-make-tesla-great-again-for-now-investors-are-buying-it/index.html\",\n",
    "    \"https://edition.cnn.com/2025/01/28/business/telsa-sales-stock/index.html\"\n",
    "]"
   ]
  },
  {
   "cell_type": "code",
   "execution_count": 52,
   "metadata": {},
   "outputs": [],
   "source": [
    "news = []\n",
    "\n",
    "for url in url_list:\n",
    "    news_item = {}\n",
    "    response = requests.get(url)\n",
    "    soup = BeautifulSoup(response.content, \"html.parser\")\n",
    "    title, text = extract_article_info(soup)\n",
    "    news_item['date'] = re.search(r\"/(\\d{4}/\\d{2}/\\d{2})/\", url).group(0)[1:-1]\n",
    "    news_item['title'] = title\n",
    "    news_item['text'] = text\n",
    "    news.append(news_item)\n",
    "    \n",
    "    "
   ]
  },
  {
   "cell_type": "code",
   "execution_count": 55,
   "metadata": {},
   "outputs": [
    {
     "name": "stdout",
     "output_type": "stream",
     "text": [
      "Data saved to demo_data.json\n"
     ]
    }
   ],
   "source": [
    "def save_to_json(data, filename=\"output.json\"):\n",
    "    \"\"\"Saves the given data to a JSON file.\"\"\"\n",
    "    try:\n",
    "        with open(filename, \"w\", encoding=\"utf-8\") as f:  # Use UTF-8 encoding\n",
    "            json.dump(data, f, indent=4, ensure_ascii=False)  # indent for readability, ensure_ascii to handle special characters\n",
    "        print(f\"Data saved to {filename}\")\n",
    "    except Exception as e:\n",
    "        print(f\"Error saving to JSON: {e}\")\n",
    "        \n",
    "save_to_json(news, filename=\"demo_data.json\")\n",
    "\n"
   ]
  }
 ],
 "metadata": {
  "kernelspec": {
   "display_name": "news-summarizer",
   "language": "python",
   "name": "python3"
  },
  "language_info": {
   "codemirror_mode": {
    "name": "ipython",
    "version": 3
   },
   "file_extension": ".py",
   "mimetype": "text/x-python",
   "name": "python",
   "nbconvert_exporter": "python",
   "pygments_lexer": "ipython3",
   "version": "3.10.16"
  }
 },
 "nbformat": 4,
 "nbformat_minor": 2
}
