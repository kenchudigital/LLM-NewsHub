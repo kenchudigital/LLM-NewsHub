{
 "cells": [
  {
   "cell_type": "markdown",
   "metadata": {},
   "source": [
    "Github link: https://github.com/flairNLP/fundus/tree/master\n",
    "\n",
    "## Seems cannot control which category or date of the news "
   ]
  },
  {
   "cell_type": "code",
   "execution_count": 2,
   "metadata": {},
   "outputs": [],
   "source": [
    "!pip install fundus --quiet"
   ]
  },
  {
   "cell_type": "code",
   "execution_count": 2,
   "metadata": {},
   "outputs": [
    {
     "name": "stdout",
     "output_type": "stream",
     "text": [
      "Fundus-Article:\n",
      "- Title: \"“You Don’t Own Gaza, Donald Trump”: Palestinians Vow to Remain and Rebuild\"\n",
      "- Text:  \"Mansour Abo Kareem stood in front of piles of rubble where his home used to be\n",
      "          and condemned U.S. President Donald Trump’s threats to [...]\"\n",
      "- URL:    https://theintercept.com/2025/02/08/trump-gaza-palestinians-displace/\n",
      "- From:   The Intercept (2025-02-08 11:20)\n",
      "Fundus-Article:\n",
      "- Title: \"The Courts Can’t Stop the Trump-Musk Coup\"\n",
      "- Text:  \"While the lawsuits being filed against the Trump-Musk administration are\n",
      "          righteous, they will not “save” us from this nightmare.  With [...]\"\n",
      "- URL:    https://www.thenation.com/article/politics/courts-cant-stop-the-trump-musk-coup/\n",
      "- From:   The Nation (2025-02-07 17:22)\n"
     ]
    }
   ],
   "source": [
    "from fundus import PublisherCollection, Crawler\n",
    "\n",
    "# initialize the crawler for news publishers based in the US\n",
    "crawler = Crawler(PublisherCollection.us)\n",
    "\n",
    "# crawl 2 articles and print\n",
    "for article in crawler.crawl(max_articles=2):\n",
    "    print(article)"
   ]
  },
  {
   "cell_type": "code",
   "execution_count": 16,
   "metadata": {},
   "outputs": [
    {
     "name": "stdout",
     "output_type": "stream",
     "text": [
      "<class 'fundus.scraping.article.Article'>\n",
      "<class 'fundus.scraping.article.Article'>\n"
     ]
    }
   ],
   "source": [
    "from fundus import PublisherCollection, Crawler\n",
    "\n",
    "# initialize the crawler for The New Yorker\n",
    "crawler = Crawler(PublisherCollection.us.TheNewYorker)\n",
    "\n",
    "# crawl 2 articles and print\n",
    "for article in crawler.crawl(max_articles=2):\n",
    "    print(type(article))"
   ]
  },
  {
   "cell_type": "code",
   "execution_count": 15,
   "metadata": {},
   "outputs": [
    {
     "ename": "TypeError",
     "evalue": "'generator' object is not subscriptable",
     "output_type": "error",
     "traceback": [
      "\u001b[0;31m---------------------------------------------------------------------------\u001b[0m",
      "\u001b[0;31mTypeError\u001b[0m                                 Traceback (most recent call last)",
      "Cell \u001b[0;32mIn[15], line 2\u001b[0m\n\u001b[1;32m      1\u001b[0m contents \u001b[38;5;241m=\u001b[39m crawler\u001b[38;5;241m.\u001b[39mcrawl(max_articles\u001b[38;5;241m=\u001b[39m\u001b[38;5;241m2\u001b[39m)\n\u001b[0;32m----> 2\u001b[0m \u001b[38;5;28mtype\u001b[39m(\u001b[43mcontents\u001b[49m\u001b[43m[\u001b[49m\u001b[38;5;241;43m0\u001b[39;49m\u001b[43m]\u001b[49m)\n",
      "\u001b[0;31mTypeError\u001b[0m: 'generator' object is not subscriptable"
     ]
    }
   ],
   "source": [
    "contents = crawler.crawl(max_articles=2)\n",
    "type(contents[0])"
   ]
  },
  {
   "cell_type": "code",
   "execution_count": null,
   "metadata": {},
   "outputs": [
    {
     "name": "stdout",
     "output_type": "stream",
     "text": [
      "Fundus-Article including 1 image(s):\n",
      "- Title: \"Daily Cartoon: Monday, March 10th\"\n",
      "- Text:  \"Buy New Yorker Cartoons »\"\n",
      "- URL:    https://www.newyorker.com/cartoons/daily-cartoon/monday-march-10th-seasonal-depression\n",
      "- From:   The New Yorker (2025-03-10 10:09)\n",
      "Fundus-Article including 1 image(s):\n",
      "- Title: \"Two Young Pianists Test Their Limits\"\n",
      "- Text:  \"Yunchan Lim tackles Bach’s Goldberg Variations, and Seong-Jin Cho presents a\n",
      "          Ravel marathon.  When, last month, the preposterously gifted [...]\"\n",
      "- URL:    https://www.newyorker.com/magazine/2025/03/17/yunchan-lim-seong-jin-cho-music-review\n",
      "- From:   The New Yorker (2025-03-10 06:00)\n"
     ]
    }
   ],
   "source": [
    "articles = []\n",
    "\n",
    "for article in crawler.crawl(max_articles=2):\n",
    "    print(article)"
   ]
  },
  {
   "cell_type": "code",
   "execution_count": null,
   "metadata": {},
   "outputs": [
    {
     "data": {
      "text/plain": [
       "<fundus.scraping.article.Article at 0x1043ea290>"
      ]
     },
     "execution_count": 7,
     "metadata": {},
     "output_type": "execute_result"
    }
   ],
   "source": [
    "import json\n",
    "\n",
    "articles[0]"
   ]
  },
  {
   "cell_type": "markdown",
   "metadata": {},
   "source": [
    "# You can see how to use this class in doc:\n",
    "\n",
    "https://github.com/flairNLP/fundus/blob/master/docs/3_the_article_class.md"
   ]
  },
  {
   "cell_type": "code",
   "execution_count": 23,
   "metadata": {},
   "outputs": [
    {
     "data": {
      "text/plain": [
       "[{'title': 'Daily Cartoon: Monday, March 10th',\n",
       "  'plaintext': 'Buy New Yorker Cartoons »',\n",
       "  'body': {'summary': [],\n",
       "   'sections': [{'headline': [],\n",
       "     'paragraphs': ['Buy New Yorker Cartoons »']}]},\n",
       "  'lang': 'en',\n",
       "  'publishing_date': '2025-03-10 10:09:00.962000-04:00',\n",
       "  'topics': [],\n",
       "  'images': [{'versions': [{'url': 'https://media.newyorker.com/cartoons/67ceecabc286ce6b756d6159/master/w_2560%2Cc_limit/A61059.jpg',\n",
       "      'query_width': None,\n",
       "      'size': None,\n",
       "      'type': 'image/jpeg'},\n",
       "     {'url': 'https://media.newyorker.com/cartoons/67ceecabc286ce6b756d6159/master/w_120,c_limit/A61059.jpg',\n",
       "      'query_width': 'max-width:767',\n",
       "      'size': {'width': 120, 'height': 0},\n",
       "      'type': 'image/jpeg'},\n",
       "     {'url': 'https://media.newyorker.com/cartoons/67ceecabc286ce6b756d6159/master/w_240,c_limit/A61059.jpg',\n",
       "      'query_width': 'max-width:767',\n",
       "      'size': {'width': 240, 'height': 0},\n",
       "      'type': 'image/jpeg'},\n",
       "     {'url': 'https://media.newyorker.com/cartoons/67ceecabc286ce6b756d6159/master/w_320,c_limit/A61059.jpg',\n",
       "      'query_width': 'max-width:767',\n",
       "      'size': {'width': 320, 'height': 0},\n",
       "      'type': 'image/jpeg'},\n",
       "     {'url': 'https://media.newyorker.com/cartoons/67ceecabc286ce6b756d6159/master/w_640,c_limit/A61059.jpg',\n",
       "      'query_width': 'max-width:767',\n",
       "      'size': {'width': 640, 'height': 0},\n",
       "      'type': 'image/jpeg'},\n",
       "     {'url': 'https://media.newyorker.com/cartoons/67ceecabc286ce6b756d6159/master/w_960,c_limit/A61059.jpg',\n",
       "      'query_width': 'max-width:767',\n",
       "      'size': {'width': 960, 'height': 0},\n",
       "      'type': 'image/jpeg'},\n",
       "     {'url': 'https://media.newyorker.com/cartoons/67ceecabc286ce6b756d6159/master/w_1280,c_limit/A61059.jpg',\n",
       "      'query_width': 'min-width:768',\n",
       "      'size': {'width': 1280, 'height': 0},\n",
       "      'type': 'image/jpeg'},\n",
       "     {'url': 'https://media.newyorker.com/cartoons/67ceecabc286ce6b756d6159/master/w_1600,c_limit/A61059.jpg',\n",
       "      'query_width': 'min-width:768',\n",
       "      'size': {'width': 1600, 'height': 0},\n",
       "      'type': 'image/jpeg'},\n",
       "     {'url': 'https://media.newyorker.com/cartoons/67ceecabc286ce6b756d6159/master/w_1920,c_limit/A61059.jpg',\n",
       "      'query_width': 'min-width:768',\n",
       "      'size': {'width': 1920, 'height': 0},\n",
       "      'type': 'image/jpeg'},\n",
       "     {'url': 'https://media.newyorker.com/cartoons/67ceecabc286ce6b756d6159/master/w_2240,c_limit/A61059.jpg',\n",
       "      'query_width': 'min-width:768',\n",
       "      'size': {'width': 2240, 'height': 0},\n",
       "      'type': 'image/jpeg'}],\n",
       "    'is_cover': True,\n",
       "    'description': 'A sadlooking man looks out a window. Outside the sun clouds and trees all have smiling faces.',\n",
       "    'caption': '“Thanks, but I still have at least another month of seasonal depression to go.” “Thanks, but I still have at least another month of seasonal depression to go.”',\n",
       "    'authors': ['Tyson Cole'],\n",
       "    'position': 218}],\n",
       "  'free_access': True},\n",
       " {'title': 'Two Young Pianists Test Their Limits',\n",
       "  'plaintext': 'Yunchan Lim tackles Bach’s Goldberg Variations, and Seong-Jin Cho presents a Ravel marathon.\\n\\nWhen, last month, the preposterously gifted twenty-year-old pianist Yunchan Lim played Rachmaninoff’s Second Piano Concerto at the Segerstrom Center for the Arts, in Costa Mesa, California, the crowd responded with one of the loudest noises I’ve lately heard in a classical venue. The previous week, Lim’s thirty-year-old colleague Seong-Jin Cho gave an all-Ravel recital at Disney Hall, and concertgoers emitted a similarly full-throated roar. In both cases, the average age of the audience was markedly lower than the concert-hall norm. The two events gave me a tremor of hope about classical music’s eternally precarious future.\\n\\nLim and Cho both come from South Korea, and people of Korean heritage make up a good part of their considerable fan base. Both grew up in nonmusical families and became spontaneously obsessed with the piano. Neither gravitates toward the flashier aspects of the virtuoso life style. Beyond that, their personalities diverge. Cho is an elegant performer who produces a preternaturally beautiful sound, although he sometimes goes against type by staging unexpected expressive interventions. Lim is a volcanic talent who renders scores by Liszt and Rachmaninoff as though he had composed them himself. He, too, resists being pigeonholed: his major offering this season is Bach’s Goldberg Variations, the antipode of Romanticism. I saw him play the work at the Conrad Prebys Performing Arts Center, in La Jolla; in April, he will bring it to Carnegie Hall. Truth be told, neither Cho’s Ravel nor Lim’s Bach proved entirely persuasive. It’s healthy, however, for younger artists to test their limits.\\n\\nCho attracted international notice when he won the Chopin Piano Competition in 2015. Three years later, he presented an essentially flawless program of Chopin and Debussy at Disney, exhibiting pianissimo chords like emeralds on velvet. When he returned in 2023, he came across as a spikier, more unpredictable artist. Handel’s Suite No. 5 unfurled with bewitching grace and suppleness, but Brahms’s Handel Variations suffered from abrupt accents and overstudied phrasing. Schumann’s “Symphonic Études” were a feast of sumptuous sonority, yet cohesion was lacking. Cho seemed so enamored of each moment that he periodically let go of the guiding thread. Still, his spirit of risk resulted in one of the year’s more memorable recitals.\\n\\nWith his crystalline touch, Cho is a natural fit for Ravel, whose hundred-and-fiftieth anniversary arrives this year. The pianist has been touring with a program of Ravel’s complete solo keyboard works; he has also recorded them for Deutsche Grammophon. I don’t think that the album will displace classic Ravel surveys by Samson François, Abbey Simon, and Steven Osborne—Cho’s versions are polished and controlled to a fault. At Disney, though, things heated up. The weightless opening of “Ondine,” the first movement of “Gaspard de la Nuit,” which sounds somewhat clinical on the recording, glowed and glimmered. “Le Gibet” and “Scarbo,” the second and third movements, exuded menace and power. In “Miroirs,” the birds of “Oiseaux Tristes” sang anxiously amid ominous silence, while “Une Barque sur l’Océan” gave the heady feeling of being heaved over the crest of a wave.\\n\\nCho made a weaker impression in the smaller genre studies that fill out Ravel’s piano output. The mercurial variations on waltz rhythm in “Valses Nobles et Sentimentales” needed more ironic fin-de-siècle charm than Cho supplied. By the time he reached the final work, “Le Tombeau de Couperin,” his concentration had dipped, and Ravel’s neo-Baroque rhythms were short on snap and lilt. Cho has noted his admiration for the great early-twentieth-century French pianist Marcelle Meyer, whose Ravel recordings are unsurpassed. He could still learn from Meyer’s way of handling each phrase as if it were a step in an invisible dance.\\n\\nAfter his solo marathon, Cho joined Paavo Järvi and the L.A. Philharmonic to perform Ravel’s Concerto in G. This heralded a companion D.G. recording, of Ravel’s two piano concertos, with Andris Nelsons and the Boston Symphony. Again, the live version bested the studio one. On disk, the Bostonians play with maximum effervescence, but in the Adagio of the Concerto in G Cho’s attempt at otherworldly lyricism turns listless. In L.A., Järvi discouraged such longueurs by nudging tempos along, and the Satie-like main theme of the Adagio became a gently swaying trance. As an encore, Cho whipped up a vibrant account of the Rigaudon from “Tombeau”—more characterful than the one at the recital. What amounted to a weeklong Ravel residency ended with a stylish bang.\\n\\nLim shot to fame when he won the Van Cliburn Competition in 2022. Stephen Hough, a member of the Cliburn jury, said of Lim’s rendition of Liszt’s Transcendental Études, “He understood the rhetoric, the scope, the personality of Liszt. It isn’t speed but a kind of inner charisma.” How this shy, shaggy-haired youth acquired such depth of understanding isn’t immediately clear. He seems to have burrowed inside the music from an early age and simply knows how it should go.\\n\\nThe famous opening of the Rachmaninoff Second Concerto—an expanding-and-contracting sequence of minatory F-minor-ish chords, with F’s tolling deep below—established Lim’s sorcery at once. The composer asks for a gradual crescendo, which most pianists interpret as a stepwise intensification of the big chords, with the low notes following suit. Lim, whose left hand is a force of nature, applied ever-increasing pressure to those F’s, so that they pulled us down into the Romantic abyss. Although Lim had impassioned accompaniment from Antonio Pappano and the London Symphony, he was in command from the start. Which is not to say that he made a spectacle of his virtuosity; the piece was as symphonically integrated as I’ve ever heard it. The audience explosion at the end was richly earned.\\n\\nTo jump from Rachmaninoff to Bach requires an adjustment. The Conrad, as the La Jolla venue is known, possesses an exceptionally sensitive acoustic, and at times Lim’s booming tone swamped Bach’s geometric designs—like a Wagnerian soprano singing Gregorian chant. Certainly, this was not a performance for purists. Lim followed András Schiff in transposing the repeat sections of several variations (Nos. 7 and 19 up an octave, No. 18 down). Here and there, he added octaves in the left hand. But nothing he did lacked taste. In any case, playing Bach on a concert grand is an inherently impure act; Bach knew of no such instrument.\\n\\nLim has obviously pondered this cosmic music at length. Idiomatic ornaments enlivened the repeat sections; these had a particularly exhilarating impact in Variation 5, amid sixteenth notes of already breathtaking effortlessness. In the minor-key variations, Lim devised some striking effects. In Variation 15, he brought out a tortured, almost modernistic atmosphere by stressing dissonant notes and lamenting lines; in the monumentally melancholy Variation 25, he gave wrenching emphasis to a line descending from high D and then made the same passage affectingly subdued on the repeat. Yet these movements were not drawn out to the point of stasis, as in mannered recent performances by Vikingur Ólafsson.\\n\\nInevitably, Lim’s Goldbergs are a work in progress. In La Jolla, they amounted to a collage of riveting episodes, rather than the kind of fully articulated narrative fashioned by such experienced exponents as Schiff, Murray Perahia, and Igor Levit. All the same, it was thrilling to watch Lim navigate the Bachian labyrinth, which yields all its secrets to no one.\\n\\nBefore launching into the Goldbergs, Lim offered a short piece by Hanurij Lee, titled “. . . round and velvety-smooth blend . . .” Lee is a nineteen-year-old Korean composing prodigy who writes scores with titles like “Supermarktmusik” and “Wrong Tempered Clavier” and seems drawn to Schoenberg, Messiaen, and Stockhausen. Lim’s expert, sympathetic performance made one imagine vast new swaths of repertory for him to explore. The encore was Liszt’s “Petrarch Sonnet No. 104,” which crashed against the ears like the Pacific surf. ♦',\n",
       "  'body': {'summary': ['Yunchan Lim tackles Bach’s Goldberg Variations, and Seong-Jin Cho presents a Ravel marathon.'],\n",
       "   'sections': [{'headline': [],\n",
       "     'paragraphs': ['When, last month, the preposterously gifted twenty-year-old pianist Yunchan Lim played Rachmaninoff’s Second Piano Concerto at the Segerstrom Center for the Arts, in Costa Mesa, California, the crowd responded with one of the loudest noises I’ve lately heard in a classical venue. The previous week, Lim’s thirty-year-old colleague Seong-Jin Cho gave an all-Ravel recital at Disney Hall, and concertgoers emitted a similarly full-throated roar. In both cases, the average age of the audience was markedly lower than the concert-hall norm. The two events gave me a tremor of hope about classical music’s eternally precarious future.',\n",
       "      'Lim and Cho both come from South Korea, and people of Korean heritage make up a good part of their considerable fan base. Both grew up in nonmusical families and became spontaneously obsessed with the piano. Neither gravitates toward the flashier aspects of the virtuoso life style. Beyond that, their personalities diverge. Cho is an elegant performer who produces a preternaturally beautiful sound, although he sometimes goes against type by staging unexpected expressive interventions. Lim is a volcanic talent who renders scores by Liszt and Rachmaninoff as though he had composed them himself. He, too, resists being pigeonholed: his major offering this season is Bach’s Goldberg Variations, the antipode of Romanticism. I saw him play the work at the Conrad Prebys Performing Arts Center, in La Jolla; in April, he will bring it to Carnegie Hall. Truth be told, neither Cho’s Ravel nor Lim’s Bach proved entirely persuasive. It’s healthy, however, for younger artists to test their limits.',\n",
       "      'Cho attracted international notice when he won the Chopin Piano Competition in 2015. Three years later, he presented an essentially flawless program of Chopin and Debussy at Disney, exhibiting pianissimo chords like emeralds on velvet. When he returned in 2023, he came across as a spikier, more unpredictable artist. Handel’s Suite No. 5 unfurled with bewitching grace and suppleness, but Brahms’s Handel Variations suffered from abrupt accents and overstudied phrasing. Schumann’s “Symphonic Études” were a feast of sumptuous sonority, yet cohesion was lacking. Cho seemed so enamored of each moment that he periodically let go of the guiding thread. Still, his spirit of risk resulted in one of the year’s more memorable recitals.',\n",
       "      'With his crystalline touch, Cho is a natural fit for Ravel, whose hundred-and-fiftieth anniversary arrives this year. The pianist has been touring with a program of Ravel’s complete solo keyboard works; he has also recorded them for Deutsche Grammophon. I don’t think that the album will displace classic Ravel surveys by Samson François, Abbey Simon, and Steven Osborne—Cho’s versions are polished and controlled to a fault. At Disney, though, things heated up. The weightless opening of “Ondine,” the first movement of “Gaspard de la Nuit,” which sounds somewhat clinical on the recording, glowed and glimmered. “Le Gibet” and “Scarbo,” the second and third movements, exuded menace and power. In “Miroirs,” the birds of “Oiseaux Tristes” sang anxiously amid ominous silence, while “Une Barque sur l’Océan” gave the heady feeling of being heaved over the crest of a wave.',\n",
       "      'Cho made a weaker impression in the smaller genre studies that fill out Ravel’s piano output. The mercurial variations on waltz rhythm in “Valses Nobles et Sentimentales” needed more ironic fin-de-siècle charm than Cho supplied. By the time he reached the final work, “Le Tombeau de Couperin,” his concentration had dipped, and Ravel’s neo-Baroque rhythms were short on snap and lilt. Cho has noted his admiration for the great early-twentieth-century French pianist Marcelle Meyer, whose Ravel recordings are unsurpassed. He could still learn from Meyer’s way of handling each phrase as if it were a step in an invisible dance.',\n",
       "      'After his solo marathon, Cho joined Paavo Järvi and the L.A. Philharmonic to perform Ravel’s Concerto in G. This heralded a companion D.G. recording, of Ravel’s two piano concertos, with Andris Nelsons and the Boston Symphony. Again, the live version bested the studio one. On disk, the Bostonians play with maximum effervescence, but in the Adagio of the Concerto in G Cho’s attempt at otherworldly lyricism turns listless. In L.A., Järvi discouraged such longueurs by nudging tempos along, and the Satie-like main theme of the Adagio became a gently swaying trance. As an encore, Cho whipped up a vibrant account of the Rigaudon from “Tombeau”—more characterful than the one at the recital. What amounted to a weeklong Ravel residency ended with a stylish bang.',\n",
       "      'Lim shot to fame when he won the Van Cliburn Competition in 2022. Stephen Hough, a member of the Cliburn jury, said of Lim’s rendition of Liszt’s Transcendental Études, “He understood the rhetoric, the scope, the personality of Liszt. It isn’t speed but a kind of inner charisma.” How this shy, shaggy-haired youth acquired such depth of understanding isn’t immediately clear. He seems to have burrowed inside the music from an early age and simply knows how it should go.',\n",
       "      'The famous opening of the Rachmaninoff Second Concerto—an expanding-and-contracting sequence of minatory F-minor-ish chords, with F’s tolling deep below—established Lim’s sorcery at once. The composer asks for a gradual crescendo, which most pianists interpret as a stepwise intensification of the big chords, with the low notes following suit. Lim, whose left hand is a force of nature, applied ever-increasing pressure to those F’s, so that they pulled us down into the Romantic abyss. Although Lim had impassioned accompaniment from Antonio Pappano and the London Symphony, he was in command from the start. Which is not to say that he made a spectacle of his virtuosity; the piece was as symphonically integrated as I’ve ever heard it. The audience explosion at the end was richly earned.',\n",
       "      'To jump from Rachmaninoff to Bach requires an adjustment. The Conrad, as the La Jolla venue is known, possesses an exceptionally sensitive acoustic, and at times Lim’s booming tone swamped Bach’s geometric designs—like a Wagnerian soprano singing Gregorian chant. Certainly, this was not a performance for purists. Lim followed András Schiff in transposing the repeat sections of several variations (Nos. 7 and 19 up an octave, No. 18 down). Here and there, he added octaves in the left hand. But nothing he did lacked taste. In any case, playing Bach on a concert grand is an inherently impure act; Bach knew of no such instrument.',\n",
       "      'Lim has obviously pondered this cosmic music at length. Idiomatic ornaments enlivened the repeat sections; these had a particularly exhilarating impact in Variation 5, amid sixteenth notes of already breathtaking effortlessness. In the minor-key variations, Lim devised some striking effects. In Variation 15, he brought out a tortured, almost modernistic atmosphere by stressing dissonant notes and lamenting lines; in the monumentally melancholy Variation 25, he gave wrenching emphasis to a line descending from high D and then made the same passage affectingly subdued on the repeat. Yet these movements were not drawn out to the point of stasis, as in mannered recent performances by Vikingur Ólafsson.',\n",
       "      'Inevitably, Lim’s Goldbergs are a work in progress. In La Jolla, they amounted to a collage of riveting episodes, rather than the kind of fully articulated narrative fashioned by such experienced exponents as Schiff, Murray Perahia, and Igor Levit. All the same, it was thrilling to watch Lim navigate the Bachian labyrinth, which yields all its secrets to no one.',\n",
       "      'Before launching into the Goldbergs, Lim offered a short piece by Hanurij Lee, titled “. . . round and velvety-smooth blend . . .” Lee is a nineteen-year-old Korean composing prodigy who writes scores with titles like “Supermarktmusik” and “Wrong Tempered Clavier” and seems drawn to Schoenberg, Messiaen, and Stockhausen. Lim’s expert, sympathetic performance made one imagine vast new swaths of repertory for him to explore. The encore was Liszt’s “Petrarch Sonnet No. 104,” which crashed against the ears like the Pacific surf. ♦']}]},\n",
       "  'lang': 'en',\n",
       "  'publishing_date': '2025-03-10 06:00:00-04:00',\n",
       "  'topics': [],\n",
       "  'images': [{'versions': [{'url': 'https://media.newyorker.com/photos/67c77231f954c9649f807398/master/w_2560%2Cc_limit/r45714.jpg',\n",
       "      'query_width': None,\n",
       "      'size': None,\n",
       "      'type': 'image/jpeg'},\n",
       "     {'url': 'https://media.newyorker.com/photos/67c77231f954c9649f807398/master/w_120,c_limit/r45714.jpg',\n",
       "      'query_width': 'max-width:767',\n",
       "      'size': {'width': 120, 'height': 0},\n",
       "      'type': 'image/jpeg'},\n",
       "     {'url': 'https://media.newyorker.com/photos/67c77231f954c9649f807398/master/w_240,c_limit/r45714.jpg',\n",
       "      'query_width': 'max-width:767',\n",
       "      'size': {'width': 240, 'height': 0},\n",
       "      'type': 'image/jpeg'},\n",
       "     {'url': 'https://media.newyorker.com/photos/67c77231f954c9649f807398/master/w_320,c_limit/r45714.jpg',\n",
       "      'query_width': 'max-width:767',\n",
       "      'size': {'width': 320, 'height': 0},\n",
       "      'type': 'image/jpeg'},\n",
       "     {'url': 'https://media.newyorker.com/photos/67c77231f954c9649f807398/master/w_640,c_limit/r45714.jpg',\n",
       "      'query_width': 'max-width:767',\n",
       "      'size': {'width': 640, 'height': 0},\n",
       "      'type': 'image/jpeg'},\n",
       "     {'url': 'https://media.newyorker.com/photos/67c77231f954c9649f807398/master/w_960,c_limit/r45714.jpg',\n",
       "      'query_width': 'max-width:767',\n",
       "      'size': {'width': 960, 'height': 0},\n",
       "      'type': 'image/jpeg'},\n",
       "     {'url': 'https://media.newyorker.com/photos/67c77231f954c9649f807398/master/w_1280,c_limit/r45714.jpg',\n",
       "      'query_width': 'min-width:768',\n",
       "      'size': {'width': 1280, 'height': 0},\n",
       "      'type': 'image/jpeg'},\n",
       "     {'url': 'https://media.newyorker.com/photos/67c77231f954c9649f807398/master/w_1600,c_limit/r45714.jpg',\n",
       "      'query_width': 'min-width:768',\n",
       "      'size': {'width': 1600, 'height': 0},\n",
       "      'type': 'image/jpeg'},\n",
       "     {'url': 'https://media.newyorker.com/photos/67c77231f954c9649f807398/master/w_1920,c_limit/r45714.jpg',\n",
       "      'query_width': 'min-width:768',\n",
       "      'size': {'width': 1920, 'height': 0},\n",
       "      'type': 'image/jpeg'},\n",
       "     {'url': 'https://media.newyorker.com/photos/67c77231f954c9649f807398/master/w_2240,c_limit/r45714.jpg',\n",
       "      'query_width': 'min-width:768',\n",
       "      'size': {'width': 2240, 'height': 0},\n",
       "      'type': 'image/jpeg'}],\n",
       "    'is_cover': True,\n",
       "    'description': 'Yunchan Lim top and SeongJin Cho bottom. Two South Korean pianists.',\n",
       "    'caption': 'Yunchan Lim, top, and Seong-Jin Cho, bottom. Lim is a volcanic talent who renders scores by Liszt and Rachmaninoff as if he’d composed them himself; Cho produces a preternaturally beautiful sound.',\n",
       "    'authors': ['Patricia Bolaños'],\n",
       "    'position': 243}],\n",
       "  'free_access': True}]"
      ]
     },
     "execution_count": 23,
     "metadata": {},
     "output_type": "execute_result"
    }
   ],
   "source": [
    "from fundus import PublisherCollection, Crawler\n",
    "\n",
    "# initialize the crawler for The New Yorker\n",
    "crawler = Crawler(PublisherCollection.us.TheNewYorker)\n",
    "\n",
    "articles = []\n",
    "# crawl 2 articles and print\n",
    "for article in crawler.crawl(max_articles=2):\n",
    "    article_json = article.to_json(\"title\", \"plaintext\", \"body\", \"lang\", 'publishing_date', 'topics', 'images', \"free_access\")\n",
    "    articles.append(article_json)\n",
    "\n",
    "articles"
   ]
  },
  {
   "cell_type": "code",
   "execution_count": null,
   "metadata": {},
   "outputs": [],
   "source": []
  }
 ],
 "metadata": {
  "kernelspec": {
   "display_name": "base",
   "language": "python",
   "name": "python3"
  },
  "language_info": {
   "codemirror_mode": {
    "name": "ipython",
    "version": 3
   },
   "file_extension": ".py",
   "mimetype": "text/x-python",
   "name": "python",
   "nbconvert_exporter": "python",
   "pygments_lexer": "ipython3",
   "version": "3.10.12"
  }
 },
 "nbformat": 4,
 "nbformat_minor": 2
}
