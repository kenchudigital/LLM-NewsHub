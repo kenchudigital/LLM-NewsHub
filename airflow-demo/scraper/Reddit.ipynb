{
 "cells": [
  {
   "cell_type": "markdown",
   "metadata": {},
   "source": [
    "1. Go to https://www.reddit.com/prefs/apps\n",
    "\n",
    "2. create app\n",
    "   \n",
    "API documentation: https://www.reddit.com/dev/api/"
   ]
  },
  {
   "cell_type": "code",
   "execution_count": 1,
   "metadata": {},
   "outputs": [],
   "source": [
    "from dotenv import load_dotenv\n",
    "import os"
   ]
  },
  {
   "cell_type": "code",
   "execution_count": 8,
   "metadata": {},
   "outputs": [],
   "source": [
    "REDDIT_API_SECRET = os.getenv('REDDIT_API_SECRET')\n",
    "REDDIT_PERSONAL_USE_SCRIPT = os.getenv('REDDIT_PERSONAL_USE_SCRIPT')\n",
    "REDDIT_USERNAME = os.getenv('REDDIT_USERNAME')\n",
    "REDDIT_PASSWORD = os.getenv('REDDIT_PASSWORD')"
   ]
  },
  {
   "cell_type": "code",
   "execution_count": 9,
   "metadata": {},
   "outputs": [],
   "source": [
    "CLIENT_ID = REDDIT_PERSONAL_USE_SCRIPT\n",
    "SECRET_KEY = REDDIT_API_SECRET\n",
    "USERNAME = REDDIT_USERNAME\n",
    "PASSWORD = REDDIT_PASSWORD"
   ]
  },
  {
   "cell_type": "code",
   "execution_count": 10,
   "metadata": {},
   "outputs": [],
   "source": [
    "import requests\n",
    "auth = requests.auth.HTTPBasicAuth(CLIENT_ID, SECRET_KEY)"
   ]
  },
  {
   "cell_type": "code",
   "execution_count": 11,
   "metadata": {},
   "outputs": [],
   "source": [
    "data = {\n",
    "    'grant_type': 'password',\n",
    "    'username': USERNAME,\n",
    "    'password': PASSWORD\n",
    "}"
   ]
  },
  {
   "cell_type": "code",
   "execution_count": 12,
   "metadata": {},
   "outputs": [],
   "source": [
    "headers = {\n",
    "    'User-Agent': 'MyAPI/0.0.1'\n",
    "}"
   ]
  },
  {
   "cell_type": "code",
   "execution_count": 13,
   "metadata": {},
   "outputs": [],
   "source": [
    "res = requests.post('https://www.reddit.com/api/v1/access_token',\n",
    "                    auth=auth, data=data, headers=headers)"
   ]
  },
  {
   "cell_type": "code",
   "execution_count": 17,
   "metadata": {},
   "outputs": [],
   "source": [
    "TOKEN = res.json()['access_token']"
   ]
  },
  {
   "cell_type": "code",
   "execution_count": 18,
   "metadata": {},
   "outputs": [],
   "source": [
    "headers['Authorization'] = f'bearer {TOKEN}'"
   ]
  },
  {
   "cell_type": "code",
   "execution_count": null,
   "metadata": {},
   "outputs": [],
   "source": [
    "headers"
   ]
  },
  {
   "cell_type": "code",
   "execution_count": 21,
   "metadata": {},
   "outputs": [
    {
     "data": {
      "text/plain": [
       "<Response [200]>"
      ]
     },
     "execution_count": 21,
     "metadata": {},
     "output_type": "execute_result"
    }
   ],
   "source": [
    "requests.get('https://oauth.reddit.com/api/v1/me', headers=headers)"
   ]
  },
  {
   "cell_type": "code",
   "execution_count": 22,
   "metadata": {},
   "outputs": [
    {
     "data": {
      "text/plain": [
       "{'is_employee': False,\n",
       " 'seen_layout_switch': False,\n",
       " 'has_visited_new_profile': False,\n",
       " 'pref_no_profanity': True,\n",
       " 'has_external_account': False,\n",
       " 'pref_geopopular': '',\n",
       " 'seen_redesign_modal': False,\n",
       " 'pref_show_trending': True,\n",
       " 'subreddit': {'default_set': True,\n",
       "  'user_is_contributor': False,\n",
       "  'banner_img': '',\n",
       "  'restrict_posting': True,\n",
       "  'user_is_banned': False,\n",
       "  'free_form_reports': True,\n",
       "  'community_icon': None,\n",
       "  'show_media': True,\n",
       "  'icon_color': '#51E9F4',\n",
       "  'user_is_muted': None,\n",
       "  'display_name': 'u_Training-Pop5940',\n",
       "  'header_img': None,\n",
       "  'title': '',\n",
       "  'coins': 0,\n",
       "  'previous_names': [],\n",
       "  'over_18': False,\n",
       "  'icon_size': [256, 256],\n",
       "  'primary_color': '',\n",
       "  'icon_img': 'https://www.redditstatic.com/avatars/defaults/v2/avatar_default_5.png',\n",
       "  'description': '',\n",
       "  'allowed_media_in_comments': [],\n",
       "  'submit_link_label': '',\n",
       "  'header_size': None,\n",
       "  'restrict_commenting': False,\n",
       "  'subscribers': 0,\n",
       "  'submit_text_label': '',\n",
       "  'is_default_icon': True,\n",
       "  'link_flair_position': '',\n",
       "  'display_name_prefixed': 'u/Training-Pop5940',\n",
       "  'key_color': '',\n",
       "  'name': 't5_djw5l4',\n",
       "  'is_default_banner': True,\n",
       "  'url': '/user/Training-Pop5940/',\n",
       "  'quarantine': False,\n",
       "  'banner_size': None,\n",
       "  'user_is_moderator': True,\n",
       "  'accept_followers': True,\n",
       "  'public_description': '',\n",
       "  'link_flair_enabled': False,\n",
       "  'disable_contributor_requests': False,\n",
       "  'subreddit_type': 'user',\n",
       "  'user_is_subscriber': False},\n",
       " 'pref_show_presence': True,\n",
       " 'snoovatar_img': '',\n",
       " 'snoovatar_size': None,\n",
       " 'gold_expiration': None,\n",
       " 'has_gold_subscription': False,\n",
       " 'is_sponsor': False,\n",
       " 'num_friends': 0,\n",
       " 'features': {'modmail_harassment_filter': True,\n",
       "  'mod_service_mute_writes': True,\n",
       "  'promoted_trend_blanks': True,\n",
       "  'show_amp_link': True,\n",
       "  'mweb_link_tab': {'owner': 'growth',\n",
       "   'variant': 'treatment_1',\n",
       "   'experiment_id': 404},\n",
       "  'is_email_permission_required': False,\n",
       "  'mod_awards': True,\n",
       "  'expensive_coins_package': True,\n",
       "  'mweb_xpromo_revamp_v2': {'owner': 'growth',\n",
       "   'variant': 'treatment_5',\n",
       "   'experiment_id': 457},\n",
       "  'awards_on_streams': True,\n",
       "  'mweb_xpromo_modal_listing_click_daily_dismissible_ios': True,\n",
       "  'chat_subreddit': True,\n",
       "  'cookie_consent_banner': True,\n",
       "  'modlog_copyright_removal': True,\n",
       "  'do_not_track': True,\n",
       "  'images_in_comments': True,\n",
       "  'mod_service_mute_reads': True,\n",
       "  'chat_user_settings': True,\n",
       "  'use_pref_account_deployment': True,\n",
       "  'mweb_xpromo_interstitial_comments_ios': True,\n",
       "  'mweb_xpromo_modal_listing_click_daily_dismissible_android': True,\n",
       "  'premium_subscriptions_table': True,\n",
       "  'mweb_xpromo_interstitial_comments_android': True,\n",
       "  'crowd_control_for_post': True,\n",
       "  'mweb_nsfw_xpromo': {'owner': 'growth',\n",
       "   'variant': 'control_1',\n",
       "   'experiment_id': 361},\n",
       "  'chat_group_rollout': True,\n",
       "  'resized_styles_images': True,\n",
       "  'noreferrer_to_noopener': True},\n",
       " 'can_edit_name': True,\n",
       " 'verified': True,\n",
       " 'new_modmail_exists': None,\n",
       " 'pref_autoplay': True,\n",
       " 'coins': 0,\n",
       " 'has_paypal_subscription': False,\n",
       " 'has_subscribed_to_premium': False,\n",
       " 'id': 'nxrdpvxgt',\n",
       " 'has_stripe_subscription': False,\n",
       " 'oauth_client_id': 'DF5fK5UOxOQBOKXXBldgJg',\n",
       " 'can_create_subreddit': True,\n",
       " 'over_18': False,\n",
       " 'is_gold': False,\n",
       " 'is_mod': False,\n",
       " 'awarder_karma': 0,\n",
       " 'suspension_expiration_utc': None,\n",
       " 'has_verified_email': True,\n",
       " 'is_suspended': False,\n",
       " 'pref_video_autoplay': True,\n",
       " 'has_android_subscription': False,\n",
       " 'in_redesign_beta': True,\n",
       " 'icon_img': 'https://www.redditstatic.com/avatars/defaults/v2/avatar_default_5.png',\n",
       " 'has_mod_mail': False,\n",
       " 'pref_nightmode': False,\n",
       " 'awardee_karma': 0,\n",
       " 'hide_from_robots': False,\n",
       " 'password_set': True,\n",
       " 'link_karma': 1,\n",
       " 'force_password_reset': False,\n",
       " 'total_karma': 1,\n",
       " 'seen_give_award_tooltip': False,\n",
       " 'inbox_count': 0,\n",
       " 'seen_premium_adblock_modal': False,\n",
       " 'pref_top_karma_subreddits': True,\n",
       " 'has_mail': False,\n",
       " 'pref_show_snoovatar': False,\n",
       " 'name': 'Training-Pop5940',\n",
       " 'pref_clickgadget': 5,\n",
       " 'created': 1739103293.0,\n",
       " 'gold_creddits': 0,\n",
       " 'created_utc': 1739103293.0,\n",
       " 'has_ios_subscription': False,\n",
       " 'pref_show_twitter': False,\n",
       " 'in_beta': False,\n",
       " 'comment_karma': 0,\n",
       " 'accept_followers': True,\n",
       " 'has_subscribed': True,\n",
       " 'linked_identities': ['https://accounts.google.com'],\n",
       " 'seen_subreddit_chat_ftux': False}"
      ]
     },
     "execution_count": 22,
     "metadata": {},
     "output_type": "execute_result"
    }
   ],
   "source": [
    "requests.get('https://oauth.reddit.com/api/v1/me', headers=headers).json()"
   ]
  },
  {
   "cell_type": "markdown",
   "metadata": {},
   "source": [
    "# Success access"
   ]
  },
  {
   "cell_type": "code",
   "execution_count": 41,
   "metadata": {},
   "outputs": [],
   "source": [
    "# res = requests.get('https://oauth.reddit.com/r/python/hot',\n",
    "#                    headers=headers)\n",
    "\n",
    "# https://oauth.reddit.com/r/python/new\n",
    "\n",
    "# res = requests.get('https://oauth.reddit.com/r/{subreddit}/hot',\n",
    "#                    headers=headers, \n",
    "#                    params= {'limit': '10'})\n",
    "\n",
    "res = requests.get('https://oauth.reddit.com/hot',\n",
    "                   headers=headers, \n",
    "                   params= {'limit': '10'})"
   ]
  },
  {
   "cell_type": "code",
   "execution_count": 42,
   "metadata": {},
   "outputs": [],
   "source": [
    "# res.json() # which need to be cleaned"
   ]
  },
  {
   "cell_type": "code",
   "execution_count": 43,
   "metadata": {},
   "outputs": [
    {
     "name": "stdout",
     "output_type": "stream",
     "text": [
      "Trump reveals he’s spoken with Putin by phone, says Russian president ‘wants to see people stop dying’ in Ukraine war\n",
      "Thai nationals held captive by Hamas for 15 months return home\n",
      "Russia to Draft 100,000 Troops: “Putin is Not Preparing for Negotiations,” Says Zelenskyy\n",
      "Finnish Defence Ministry detects violation of Finnish airspace by Russian government aircraft\n",
      "Trump wants a deal for Ukraine’s natural resources as ‘payback’ in exchange for aid stopping Russia attack: envoy\n",
      "Baltic nations disconnect from Russian power grid to avoid power being used 'as a weapon'\n",
      "200,000 march against far right in Munich\n",
      "Japan faces Trump's reciprocal tariffs on farm goods and autos\n",
      "Iranian generals tell Ayatollah: We need nuclear weapons\n",
      "7.6 Earthquake off Honduras coast\n"
     ]
    }
   ],
   "source": [
    "for post in res.json()['data']['children']:\n",
    "    print(post['data']['title'])"
   ]
  },
  {
   "cell_type": "code",
   "execution_count": 44,
   "metadata": {},
   "outputs": [
    {
     "name": "stdout",
     "output_type": "stream",
     "text": [
      "   subreddit                                              title selftext  \\\n",
      "0  worldnews  Trump reveals he’s spoken with Putin by phone,...            \n",
      "1  worldnews  Thai nationals held captive by Hamas for 15 mo...            \n",
      "2  worldnews  Russia to Draft 100,000 Troops: “Putin is Not ...            \n",
      "3  worldnews  Finnish Defence Ministry detects violation of ...            \n",
      "4  worldnews  Trump wants a deal for Ukraine’s natural resou...            \n",
      "5  worldnews  Baltic nations disconnect from Russian power g...            \n",
      "6  worldnews          200,000 march against far right in Munich            \n",
      "7  worldnews  Japan faces Trump's reciprocal tariffs on farm...            \n",
      "8  worldnews  Iranian generals tell Ayatollah: We need nucle...            \n",
      "9  worldnews                  7.6 Earthquake off Honduras coast            \n",
      "\n",
      "   upvote_ratio    ups  downs  score  \n",
      "0          0.92  10394      0  10394  \n",
      "1          0.95   1172      0   1172  \n",
      "2          0.96  26339      0  26339  \n",
      "3          0.97    430      0    430  \n",
      "4          0.95   4621      0   4621  \n",
      "5          0.98    746      0    746  \n",
      "6          0.96  11139      0  11139  \n",
      "7          0.97   3073      0   3073  \n",
      "8          0.91    480      0    480  \n",
      "9          0.97   1747      0   1747  \n"
     ]
    }
   ],
   "source": [
    "import pandas as pd\n",
    "\n",
    "df = pd.DataFrame()\n",
    "all_posts = [] \n",
    "\n",
    "for post in res.json()['data']['children']:\n",
    "    post_data = {\n",
    "            'subreddit': post['data']['subreddit'], # sub-CATEGORY\n",
    "            'title': post['data']['title'], \n",
    "            'selftext': post['data']['selftext'], # content\n",
    "            'upvote_ratio': post['data']['upvote_ratio'], # like ratio\n",
    "            'ups': post['data']['ups'], # like\n",
    "            'downs': post['data']['downs'], # dislike\n",
    "            'score': post['data']['score'] # overall score\n",
    "        }\n",
    "    all_posts.append(post_data)\n",
    "\n",
    "df = pd.DataFrame(all_posts)\n",
    "print(df)\n"
   ]
  }
 ],
 "metadata": {
  "kernelspec": {
   "display_name": "news-summarizer",
   "language": "python",
   "name": "python3"
  },
  "language_info": {
   "codemirror_mode": {
    "name": "ipython",
    "version": 3
   },
   "file_extension": ".py",
   "mimetype": "text/x-python",
   "name": "python",
   "nbconvert_exporter": "python",
   "pygments_lexer": "ipython3",
   "version": "3.10.16"
  }
 },
 "nbformat": 4,
 "nbformat_minor": 2
}
